import numpy as np
import matplotlib.pyplot as plt
from sklearn.datasets import load_iris
from sklearn.neural_network import MLPClassifier
# charger les données
iris = load_iris()
X = iris.data
y = iris.target
X.shape # notre Dataset comprend 150 exemples et 4 variables
# Visualisation des donées
colormap=np.array(['Grey','green','blue'])
plt.scatter(X[:,3], X[:,1], c = colormap[y])
# Création du modele
model = MLPClassifier(hidden_layer_sizes=(10, 10, 10), max_iter=1000)
model.fit(X, y)
model.score(X, y